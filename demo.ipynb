{
 "cells": [
  {
   "cell_type": "code",
   "execution_count": 1,
   "metadata": {},
   "outputs": [],
   "source": [
    "from sympy import symbols\n",
    "import numpy as np\n",
    "from code import Solver"
   ]
  },
  {
   "cell_type": "markdown",
   "metadata": {},
   "source": [
    "# Example: Solving a System of Equations using Smith Normal Form\n",
    "\n",
    "### Consider the following example system of linear equations:\n",
    "\n",
    "\n",
    "$$\n",
    "\\begin{matrix}\n",
    "x + 5y + z + 6t + 9h &=&1 \\\\\n",
    "4x + 6y + z + 4t + 6h &=&1 \\\\\n",
    "4x + 3y + 5z + 7t + 8h &=&1 \\\\\n",
    "\\end{matrix}\n",
    "$$\n",
    "\n",
    "$$\n",
    "A = \\begin{pmatrix}\n",
    "1 & 5 & 1 & 6 & 9 \\\\\n",
    "4 & 6 & 1 & 4 & 6 \\\\\n",
    "4 & 3 & 5 & 7 & 8 \\\\\n",
    "\\end{pmatrix}\n",
    ", \\space \\space\n",
    "b = \\begin{pmatrix}\n",
    "1 \\\\\n",
    "1 \\\\\n",
    "1 \\\\\n",
    "\\end{pmatrix}\n",
    "$$\n"
   ]
  },
  {
   "cell_type": "markdown",
   "metadata": {},
   "source": [
    "\n",
    "### To solve this system using the Smith normal form, we apply row and column transformations operations.\n",
    "### These operations include swapping both rows and columns, multiplying by constants, and adding or subtracting.\n",
    "\n",
    "### Smith normal form of matrix A (if it exists) will have form:\n",
    "$$\n",
    "A^{'} = \\begin{bmatrix}\n",
    "d_1 & 0 & 0 & 0 & 0 \\\\\n",
    "0 & d_2 & 0 & 0 & 0 \\\\\n",
    "0 & 0 & d_3 & 0 & 0 \\\\\n",
    "\\end{bmatrix}\n",
    "$$\n",
    "where $d_i$ are integers and called invariant factors.\n",
    "\n",
    "$$ A^{'} = B\\cdot A \\cdot C$$\n",
    "where $C$ and $B$ are composed out of basic transformation matrices.\n",
    "\n",
    "Then $$b' = B \\cdot b, \\hspace{2em} x = (b_1/d_{1},b_2/d_{2},..,b_n/d_{n}, x_0,x_1,..,x_{s-1})$$ where $x_s$ denotes the amount of free variables in the system (in our case $s=2$)\n",
    "\n",
    "And finally $$x' = C \\cdot x$$ - our solution to the system."
   ]
  },
  {
   "cell_type": "code",
   "execution_count": 3,
   "metadata": {},
   "outputs": [],
   "source": [
    "A = [[1, 5, 1, 6, 9], [4, 6, 1, 4 ,6], [4, 3, 5, 7, 8]]\n",
    "b = [1, 1, 1]"
   ]
  },
  {
   "cell_type": "code",
   "execution_count": 4,
   "metadata": {},
   "outputs": [],
   "source": [
    "solver = Solver(A=A, b=b)"
   ]
  },
  {
   "cell_type": "code",
   "execution_count": 8,
   "metadata": {},
   "outputs": [
    {
     "data": {
      "text/plain": [
       "[-4*x_0 - 3*x_1 + 7,\n",
       " 7*x_0 + 4*x_1 - 12,\n",
       " -16*x_0 - 2*x_1 + 27,\n",
       " 53*x_0 + 14*x_1 - 90,\n",
       " -37*x_0 - 11*x_1 + 63]"
      ]
     },
     "execution_count": 8,
     "metadata": {},
     "output_type": "execute_result"
    }
   ],
   "source": [
    "solver.solve(point=[])"
   ]
  },
  {
   "cell_type": "code",
   "execution_count": 9,
   "metadata": {},
   "outputs": [
    {
     "name": "stdout",
     "output_type": "stream",
     "text": [
      "[3 - 3*x_1, 4*x_1 - 5, 11 - 2*x_1, 14*x_1 - 37, 26 - 11*x_1]\n",
      "[0, -1, 9, -23, 15]\n",
      "[0, -1, 9, -23, 15]\n"
     ]
    }
   ],
   "source": [
    "print(solver.solve(point=[1]))\n",
    "print(solver.solve(point=[1, 1]))\n",
    "print(solver.solve(point=[1, 1, 1, 1, 1, 1, 1, 1]))"
   ]
  },
  {
   "cell_type": "code",
   "execution_count": 10,
   "metadata": {},
   "outputs": [],
   "source": [
    "x = solver.solve(point=[1, 1])"
   ]
  },
  {
   "cell_type": "code",
   "execution_count": 11,
   "metadata": {},
   "outputs": [
    {
     "name": "stdout",
     "output_type": "stream",
     "text": [
      "[1 1 1]\n"
     ]
    }
   ],
   "source": [
    "print(np.array(A) @ np.array(x))"
   ]
  }
 ],
 "metadata": {
  "kernelspec": {
   "display_name": "Python 3",
   "language": "python",
   "name": "python3"
  },
  "language_info": {
   "codemirror_mode": {
    "name": "ipython",
    "version": 3
   },
   "file_extension": ".py",
   "mimetype": "text/x-python",
   "name": "python",
   "nbconvert_exporter": "python",
   "pygments_lexer": "ipython3",
   "version": "3.11.7"
  }
 },
 "nbformat": 4,
 "nbformat_minor": 2
}
